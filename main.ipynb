// !pip install pytesseract
// !apt-get install tesseract-ocr
from PIL import Image
import pytesseract
// !pip install pdf2image
// !apt-get install poppler-utils
from pdf2image import convert_from_path
import pytesseract
from PIL import Image


pdf = r"/content/sample_data/resume1.pdf"

pages = convert_from_path(pdf, 500)

skills = [
    "Python", "Java", "C++", "SQL", "JavaScript", "HTML", "CSS", "Machine Learning",
    "Data Science", "Project Management", "Communication", "Leadership", "Teamwork",
    "Problem Solving", "Time Management", "Adaptability", "Creativity", "Networking",
    "Linux", "AWS", "Docker", "Kubernetes", "Git", "Agile", "Scrum"
]


identified_skills = set()

for i, page in enumerate(pages):

    image_name = f"pageFromRsume{i+1}.jpg"
    page.save(image_name, "JPEG")

    text = pytesseract.image_to_string(Image.open(f"pageFromRsume{i+1}.jpg"))

    print(f"\n------------------------ Page {i + 1} --------------------------------\n")
    print(text)

    for skill in skills:
        if skill.lower() in text.lower():
            identified_skills.add(skill)

print("\nIdentified Skills:")
for skill in sorted(identified_skills):
    print(skill)
